{
 "cells": [
  {
   "cell_type": "code",
   "execution_count": 10,
   "id": "c7d83b8f-d280-4eb9-b174-e40f80405269",
   "metadata": {},
   "outputs": [
    {
     "name": "stdout",
     "output_type": "stream",
     "text": [
      "Original Doubly Linked List: 1 <-> 2 <-> 3\n",
      "After insert at index 1: 1 <-> 5 <-> 2 <-> 3\n",
      "After removing 2: 1 <-> 5 <-> 3\n",
      "Error: 4 not found in the list\n"
     ]
    }
   ],
   "source": [
    "class DoublyLinkedList:\n",
    "    class __Node:\n",
    "        def __init__(self, data):\n",
    "            self.data = data\n",
    "            self.next = None\n",
    "            self.prev = None\n",
    "\n",
    "    def __init__(self):\n",
    "        self.head = None\n",
    "\n",
    "    def append(self, value):\n",
    "        new_node = self.__Node(value)\n",
    "        if not self.head:\n",
    "            self.head = new_node\n",
    "        else:\n",
    "            current = self.head\n",
    "            while current.next:\n",
    "                current = current.next\n",
    "            current.next = new_node\n",
    "            new_node.prev = current\n",
    "\n",
    "    def insert(self, index, value):\n",
    "        new_node = self.__Node(value)\n",
    "        if index == 0:\n",
    "            new_node.next = self.head\n",
    "            if self.head:\n",
    "                self.head.prev = new_node\n",
    "            self.head = new_node\n",
    "        else:\n",
    "            current = self.head\n",
    "            for _ in range(index - 1):\n",
    "                if not current:\n",
    "                    break\n",
    "                current = current.next\n",
    "            new_node.next = current.next\n",
    "            new_node.prev = current\n",
    "            if current.next:\n",
    "                current.next.prev = new_node\n",
    "            current.next = new_node\n",
    "\n",
    "    def remove(self, value):\n",
    "        current = self.head\n",
    "        while current:\n",
    "            if current.data == value:\n",
    "                if current.prev:\n",
    "                    current.prev.next = current.next\n",
    "                else:\n",
    "                    self.head = current.next\n",
    "\n",
    "                if current.next:\n",
    "                    current.next.prev = current.prev\n",
    "\n",
    "                return\n",
    "            current = current.next\n",
    "        raise ValueError(f\"{value} not found in the list\")\n",
    "\n",
    "    def __str__(self):\n",
    "        result = []\n",
    "        current = self.head\n",
    "        while current:\n",
    "            result.append(str(current.data))\n",
    "            current = current.next\n",
    "            if current:\n",
    "                result.append(\" <-> \")\n",
    "        return \"\".join(result)\n",
    "\n",
    "# Example usage\n",
    "dll = DoublyLinkedList()\n",
    "dll.append(1)\n",
    "dll.append(2)\n",
    "dll.append(3)\n",
    "\n",
    "print(\"Original Doubly Linked List:\", dll)\n",
    "\n",
    "# Insert at index 1\n",
    "dll.insert(1, 5)\n",
    "print(\"After insert at index 1:\", dll)\n",
    "\n",
    "# Remove element 2\n",
    "dll.remove(2)\n",
    "print(\"After removing 2:\", dll)\n",
    "\n",
    "# Remove element 4 (not present)\n",
    "try:\n",
    "    dll.remove(4)\n",
    "except ValueError as e:\n",
    "    print(f\"Error: {e}\")\n"
   ]
  },
  {
   "cell_type": "markdown",
   "id": "4196540c-a5ae-4908-92cb-52e3c1cfa842",
   "metadata": {},
   "source": [
    "Recursive Functions"
   ]
  },
  {
   "cell_type": "code",
   "execution_count": 11,
   "id": "6f8963a1-ab6e-4ad2-b46d-46aee439b61f",
   "metadata": {},
   "outputs": [
    {
     "data": {
      "text/plain": [
       "120"
      ]
     },
     "execution_count": 11,
     "metadata": {},
     "output_type": "execute_result"
    }
   ],
   "source": [
    "# Factorials:\n",
    "# 5! = 5x4x3x2x1\n",
    "\n",
    "# 0! = 1 <---a base case\n",
    "\n",
    "# 5! = 5x4!\n",
    "\n",
    "# 4! = 4x3!\n",
    "\n",
    "#  a recursive function is one that calls itself at least once\n",
    "\n",
    "# another important premise is that there must be ( at a min)\n",
    "# 1. a base case or exist condition\n",
    "# 2. a recursive case or condidtion where the function calls itself\n",
    "\n",
    "# Factorial function as a recursive function:\n",
    "def fact(n):\n",
    "    if n == 0:\n",
    "        return 1 \n",
    "    return n*fact(n-1)\n",
    "\n",
    "fact(5)"
   ]
  },
  {
   "cell_type": "code",
   "execution_count": 15,
   "id": "b293907c-46ab-4e50-9986-36509a97e8c0",
   "metadata": {},
   "outputs": [
    {
     "data": {
      "text/plain": [
       "12586269025"
      ]
     },
     "execution_count": 15,
     "metadata": {},
     "output_type": "execute_result"
    }
   ],
   "source": [
    "#  Fibonacci\n",
    "\n",
    "# F0 = 0\n",
    "# F1 = 1\n",
    "\n",
    "# Fn = Fn-1 + Fn-2\n",
    "\n",
    "# 0, 1, 1, 2, 3, 5, 8\n",
    "\n",
    "# what is fibonacci of 20\n",
    "# Simple implementation fo HashTable using built-ins (lru_cache)\n",
    "from functools import lru_cache\n",
    "\n",
    "\n",
    "@lru_cache\n",
    "def fib(n):\n",
    "    if n < 2:\n",
    "        return n\n",
    "    return fib(n-1) + fib(n-2)\n",
    "\n",
    "fib(50)"
   ]
  },
  {
   "cell_type": "code",
   "execution_count": 20,
   "id": "9aab40e2-d2be-4b41-a70d-f08c2780100f",
   "metadata": {},
   "outputs": [
    {
     "name": "stdout",
     "output_type": "stream",
     "text": [
      "The Fibonacci value for N=10 is: 55\n"
     ]
    }
   ],
   "source": [
    "# Use a dictionary to improve the performance of the fibonacci function\n",
    "\n",
    "# mynewdictionary = {}\n",
    "# mynewdictionary = dict()\n",
    "\n",
    "# recieve a parameter N\n",
    "# IF the parameter N matches a key in your dictionary, return the value associated\n",
    "#  IF NOT call the fibonacci function on N, and store the result before returning it to the caller\n",
    "\n",
    "def fib2(n, memo={}):\n",
    "    # Base case\n",
    "    if n <= 1:\n",
    "        return n\n",
    "\n",
    "    # Check if the value is already calculated\n",
    "    if n in memo:\n",
    "        return memo[n]\n",
    "\n",
    "    # Calculate and store the result\n",
    "    result = fib2(n - 1, memo) + fib2(n - 2, memo)\n",
    "    memo[n] = result\n",
    "\n",
    "    return result\n",
    "\n",
    "def calculate_fibonacci(n):\n",
    "    my_dict = {}\n",
    "    result = fib2(n, my_dict)\n",
    "    return result\n",
    "\n",
    "# Example usage\n",
    "n = 10\n",
    "result = calculate_fibonacci(n)\n",
    "print(f\"The Fibonacci value for N={n} is: {result}\")\n",
    "\n",
    "\n"
   ]
  },
  {
   "cell_type": "markdown",
   "id": "65702ad8-429c-4ae4-aadc-2c1adaacfb0f",
   "metadata": {},
   "source": [
    "Balanced Parentheses check\n",
    "given a string as a pareeter to your function, consistiong soley of the character in the set{\"(\",\")\",\"{\",\"}\",\"[\"_,\"_], determine if a string is \"balanced\"\n",
    "criteria\n",
    "a string is balanced when paranthesis (or brackets) are closed in the same order they were opened.\n",
    "\n",
    "examples:\n",
    "Balanced:\n",
    "((({{{}}})))\n",
    "(((()()())))\n",
    "()()()[[[[]]]]\n",
    "\n",
    "your function should return true is the string is balanced,False otherwise\n",
    "\n"
   ]
  },
  {
   "cell_type": "code",
   "execution_count": 21,
   "id": "a12a432b-a058-4d22-a995-4f9a8b52c6d0",
   "metadata": {},
   "outputs": [
    {
     "name": "stdout",
     "output_type": "stream",
     "text": [
      "True\n",
      "True\n",
      "True\n",
      "False\n",
      "False\n"
     ]
    }
   ],
   "source": [
    "def is_balanced(expression):\n",
    "    stack = []\n",
    "    opening_brackets = \"({[\"\n",
    "    closing_brackets = \")}]\"\n",
    "\n",
    "    for char in expression:\n",
    "        if char in opening_brackets:\n",
    "            stack.append(char)\n",
    "        elif char in closing_brackets:\n",
    "            if not stack or opening_brackets[closing_brackets.index(char)] != stack.pop():\n",
    "                return False\n",
    "\n",
    "    return not stack  # The string is balanced if the stack is empty\n",
    "\n",
    "# Examples\n",
    "print(is_balanced(\"((({{{}}})))\"))  # True\n",
    "print(is_balanced(\"(((()()())))\"))  # True\n",
    "print(is_balanced(\"()()()[[[[]]]]\"))  # True\n",
    "print(is_balanced(\"(()\"))  # False\n",
    "print(is_balanced(\"(()]\"))  # False\n"
   ]
  },
  {
   "cell_type": "code",
   "execution_count": null,
   "id": "ff7ebd60-eb18-4290-8b7e-7ce12d50dd75",
   "metadata": {},
   "outputs": [],
   "source": []
  }
 ],
 "metadata": {
  "kernelspec": {
   "display_name": "Python 3 (ipykernel)",
   "language": "python",
   "name": "python3"
  },
  "language_info": {
   "codemirror_mode": {
    "name": "ipython",
    "version": 3
   },
   "file_extension": ".py",
   "mimetype": "text/x-python",
   "name": "python",
   "nbconvert_exporter": "python",
   "pygments_lexer": "ipython3",
   "version": "3.12.0"
  }
 },
 "nbformat": 4,
 "nbformat_minor": 5
}
