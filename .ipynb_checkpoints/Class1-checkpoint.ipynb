{
 "cells": [
  {
   "cell_type": "markdown",
   "id": "5860eebe-27e1-4581-a00b-5f022bd3832f",
   "metadata": {
    "scrolled": true
   },
   "source": [
    "for char in \"hello, world!\":\n",
    "    print(char)"
   ]
  },
  {
   "cell_type": "code",
   "execution_count": 36,
   "id": "5635ac96-7d28-4e74-a9f3-228662fedf89",
   "metadata": {},
   "outputs": [
    {
     "name": "stdout",
     "output_type": "stream",
     "text": [
      "Are 'Listen' and 'Silent' anagrams? True\n"
     ]
    }
   ],
   "source": [
    "def anagram_check(str1, str2):\n",
    "    str1 = str1.lower().replace(\" \", \"\")\n",
    "    str2 = str2.lower().replace(\" \", \"\")\n",
    "\n",
    "    if len(str1) != len(str2):\n",
    "      return False\n",
    "\n",
    "    dict1 = {}\n",
    "    dict2 = {}\n",
    "    \n",
    "    for letter in str1:\n",
    "            if letter in dict1:\n",
    "                dict1[letter] += 1\n",
    "            else:\n",
    "                dict1[letter] = 1\n",
    "    \n",
    "    for letter in str2:\n",
    "            if letter in dict2:\n",
    "                dict2[letter] += 1\n",
    "            else:\n",
    "                dict2[letter] = 1\n",
    "    return dict1 == dict2\n",
    "\n",
    "str1 = \"Listen\"\n",
    "str2 = \"Silent\"\n",
    "\n",
    "result = anagram_check(str1, str2)\n",
    "print(f\"Are '{str1}' and '{str2}' anagrams? {result}\")\n",
    "\n",
    "\n",
    "\n",
    "\n",
    "\n",
    "\n"
   ]
  },
  {
   "cell_type": "code",
   "execution_count": 12,
   "id": "9a58e354-d41a-4033-aa72-a0f67289fc12",
   "metadata": {},
   "outputs": [],
   "source": [
    "# \"Tom Marvolo Riddle\" is an anagram of \"I am Lord Voldemort\""
   ]
  },
  {
   "cell_type": "code",
   "execution_count": 17,
   "id": "90c334ed-ff3c-4079-a10d-4f51aaed00f2",
   "metadata": {},
   "outputs": [],
   "source": [
    "# define anagram_check with parameters: str1 and str2:\n",
    "#     str1 = str1 in lowercase without spaces\n",
    "#     str2 = str2 in lowercase without spaces\n",
    "#    if the length of str1 is not equal to the length of str2:\n",
    "#           return false\n",
    "             # beyond this point it is safe to assume that the length of str1 is equal to the length of str2\n",
    "#   dict1 = new dict\n",
    "#    dict2 = new dict\n",
    "#   for each number in the rango 0 to the length of str1:\n",
    "#    if the letter at position \"numner\" is in dict1:\n",
    "#      add 1 to the value associated with letter in dict1:\n",
    "#    otherwise:\n",
    "#    create a new key in dict1 with \"letter\"\n",
    "#      give that key a value of 1 (because we've seen it once)\n",
    "# if dict1 is equal to dict2:\n",
    "# return True\n",
    "#otherwise:\n",
    "#     return False"
   ]
  },
  {
   "cell_type": "code",
   "execution_count": null,
   "id": "6e4d3c8d-adaa-458c-b53e-773c27830fb0",
   "metadata": {},
   "outputs": [],
   "source": []
  }
 ],
 "metadata": {
  "kernelspec": {
   "display_name": "Python 3 (ipykernel)",
   "language": "python",
   "name": "python3"
  },
  "language_info": {
   "codemirror_mode": {
    "name": "ipython",
    "version": 3
   },
   "file_extension": ".py",
   "mimetype": "text/x-python",
   "name": "python",
   "nbconvert_exporter": "python",
   "pygments_lexer": "ipython3",
   "version": "3.12.0"
  }
 },
 "nbformat": 4,
 "nbformat_minor": 5
}
