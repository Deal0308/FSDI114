{
 "cells": [
  {
   "cell_type": "code",
   "execution_count": 2,
   "id": "2c133160-b362-4cfa-aab8-77ff4add41ed",
   "metadata": {},
   "outputs": [],
   "source": [
    "# Simplified implementation of Stacks (usingg built-in data structures\n",
    "\n",
    "class Stack:\n",
    "    def __init(self):\n",
    "        # Our stack class internally relies on the built-in data structure \"list:\n",
    "        self.items = []\n",
    "\n",
    "    def push(self, value):\n",
    "        self.items.append(value)\n",
    "\n",
    "    def pop(self):\n",
    "        return self.items.pop()\n",
    "\n",
    "    # nice to have methods\n",
    "    def peek(self):\n",
    "        return self.items[len(self.items)-1]\n",
    "\n",
    "    def size(self):\n",
    "        return len(self.items)\n",
    "\n",
    "    def is_empty(self):\n",
    "        return self.items == []\n",
    "\n"
   ]
  },
  {
   "cell_type": "code",
   "execution_count": 5,
   "id": "dbfe709e-b717-43ce-b122-21e60954d664",
   "metadata": {},
   "outputs": [
    {
     "ename": "AttributeError",
     "evalue": "'Stack' object has no attribute 'items'",
     "output_type": "error",
     "traceback": [
      "\u001b[0;31m---------------------------------------------------------------------------\u001b[0m",
      "\u001b[0;31mAttributeError\u001b[0m                            Traceback (most recent call last)",
      "Cell \u001b[0;32mIn[5], line 12\u001b[0m\n\u001b[1;32m      9\u001b[0m         out \u001b[38;5;241m+\u001b[39m\u001b[38;5;241m=\u001b[39m stack\u001b[38;5;241m.\u001b[39mpop() \u001b[38;5;66;03m# this is the same as out = out + stack.pop()\u001b[39;00m\n\u001b[1;32m     10\u001b[0m     \u001b[38;5;28;01mreturn\u001b[39;00m out\n\u001b[0;32m---> 12\u001b[0m \u001b[43minvert_str\u001b[49m\u001b[43m(\u001b[49m\u001b[38;5;124;43m\"\u001b[39;49m\u001b[38;5;124;43mCody\u001b[39;49m\u001b[38;5;124;43m\"\u001b[39;49m\u001b[43m)\u001b[49m\n",
      "Cell \u001b[0;32mIn[5], line 6\u001b[0m, in \u001b[0;36minvert_str\u001b[0;34m(mystring)\u001b[0m\n\u001b[1;32m      4\u001b[0m stack \u001b[38;5;241m=\u001b[39m Stack()          \u001b[38;5;66;03m# instantiation\u001b[39;00m\n\u001b[1;32m      5\u001b[0m \u001b[38;5;28;01mfor\u001b[39;00m char \u001b[38;5;129;01min\u001b[39;00m mystring:\n\u001b[0;32m----> 6\u001b[0m     \u001b[43mstack\u001b[49m\u001b[38;5;241;43m.\u001b[39;49m\u001b[43mpush\u001b[49m\u001b[43m(\u001b[49m\u001b[43mchar\u001b[49m\u001b[43m)\u001b[49m\n\u001b[1;32m      7\u001b[0m out \u001b[38;5;241m=\u001b[39m \u001b[38;5;124m\"\u001b[39m\u001b[38;5;124m\"\u001b[39m \n\u001b[1;32m      8\u001b[0m \u001b[38;5;28;01mwhile\u001b[39;00m \u001b[38;5;129;01mnot\u001b[39;00m stack\u001b[38;5;241m.\u001b[39mis_empty():  \u001b[38;5;66;03m#is equal to while stack.is_empty() != True\u001b[39;00m\n",
      "Cell \u001b[0;32mIn[2], line 9\u001b[0m, in \u001b[0;36mStack.push\u001b[0;34m(self, value)\u001b[0m\n\u001b[1;32m      8\u001b[0m \u001b[38;5;28;01mdef\u001b[39;00m \u001b[38;5;21mpush\u001b[39m(\u001b[38;5;28mself\u001b[39m, value):\n\u001b[0;32m----> 9\u001b[0m     \u001b[38;5;28;43mself\u001b[39;49m\u001b[38;5;241;43m.\u001b[39;49m\u001b[43mitems\u001b[49m\u001b[38;5;241m.\u001b[39mappend(value)\n",
      "\u001b[0;31mAttributeError\u001b[0m: 'Stack' object has no attribute 'items'"
     ]
    }
   ],
   "source": [
    "#  Create a function that inverts a string using our Stac class (above)\n",
    "\n",
    "def invert_str(mystring):\n",
    "    stack = Stack()          # instantiation\n",
    "    for char in mystring:\n",
    "        stack.push(char)\n",
    "    out = \"\" \n",
    "    while not stack.is_empty():  #is equal to while stack.is_empty() != True\n",
    "        out += stack.pop() # this is the same as out = out + stack.pop()\n",
    "    return out\n",
    "\n",
    "invert_str(\"Cody\")"
   ]
  },
  {
   "cell_type": "code",
   "execution_count": null,
   "id": "a550f4f4-ed57-4b14-8974-311f74a8bde1",
   "metadata": {},
   "outputs": [],
   "source": [
    "# small detour\n",
    "\n",
    "myemptystr = \"A\"\n",
    "count = 0"
   ]
  }
 ],
 "metadata": {
  "kernelspec": {
   "display_name": "Python 3 (ipykernel)",
   "language": "python",
   "name": "python3"
  },
  "language_info": {
   "codemirror_mode": {
    "name": "ipython",
    "version": 3
   },
   "file_extension": ".py",
   "mimetype": "text/x-python",
   "name": "python",
   "nbconvert_exporter": "python",
   "pygments_lexer": "ipython3",
   "version": "3.12.0"
  }
 },
 "nbformat": 4,
 "nbformat_minor": 5
}
